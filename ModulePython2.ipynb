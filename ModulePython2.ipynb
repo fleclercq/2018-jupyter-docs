{
 "cells": [
  {
   "cell_type": "markdown",
   "metadata": {},
   "source": [
    "# Module Python 2\n",
    "\n",
    "En cours d'algorithmique, nous avons vu comment écrire des boucles à l'aide d'un Tant que.\n",
    "\n",
    "Nous allons maintenant en programmation, les utiliser pour résoudre des questions courantes de mathématiques.\n",
    "\n",
    "Dans la suite de ce fichier, si votre programme entre dans une boucle infinie et ne répond plus, choisissez, dans le menu **Kernel** ci-dessus, l'option \n",
    "**Interrupt**.\n",
    "\n",
    "## Une boucle toute simple\n",
    "\n",
    "Prenons comme exemple un moment désagréable dans la vie de Bart Simpson.\n",
    "\n",
    "<IMG SRC=\"bartpython.png\">\n",
    "\n",
    "Nous souhaitons aider Bart en codant un programme en Python écrivant à sa place 10 fois la phrase \"Je ne dois pas ramener de véritable python au lycée.\".\n",
    "\n",
    "Il s'agit donc comme dans le cours d'écrire une boucle avec un compteur pour savoir quand on a fini. Voici l'algorithme.\n",
    "\n",
    "$compteur \\leftarrow 1$<br>\n",
    "**tant que** $compteur \\leqslant 10$ **faire**<br>\n",
    "&nbsp; | &nbsp;&nbsp; Afficher \"Je ne dois pas ramener de véritable python au lycée.\"<br>\n",
    "&nbsp;  | &nbsp;&nbsp; $compteur \\leftarrow compteur + 1$<br>\n",
    "**fin**<br>\n",
    "\n",
    "### Exercice 1\n",
    "\n",
    "Traduire cet algorithme en Python dans le cadre de code ci-dessous.\n",
    "\n",
    "Recopier le code dans le compte-rendu.\n",
    "\n",
    "Si votre programme entre dans une boucle infinie et ne répond plus, choisissez, dans le menu **Kernel** ci-dessus, l'option \n",
    "**Interrupt**."
   ]
  },
  {
   "cell_type": "code",
   "execution_count": null,
   "metadata": {
    "collapsed": true
   },
   "outputs": [],
   "source": [
    "# cadre de code où écrire le programme\n",
    "\n",
    "print(\"Je ne dois pas ramener de véritable python au lycée.\")\n"
   ]
  },
  {
   "cell_type": "markdown",
   "metadata": {},
   "source": [
    "## Reprise du problème type du cours\n",
    "\n",
    "On souhaite calculer la somme $S = 1 + 2 + 3 + ... + 99 + 100$\n",
    "\n",
    "Nous avons écrit pour cela l'algorithme suivant :\n",
    "\n",
    "$S \\leftarrow 0$<br>\n",
    "$compteur \\leftarrow 1$<br>\n",
    "**tant que** $compteur \\leqslant 100$ **faire**<br>\n",
    "&nbsp; | &nbsp;&nbsp; $S \\leftarrow S + compteur$<br>\n",
    "&nbsp;  | &nbsp;&nbsp; $compteur \\leftarrow compteur + 1$<br>\n",
    "**fin**<br>\n",
    "Afficher $S$\n",
    "\n",
    "Un fois traduit en Python, on obtient le code suivant :"
   ]
  },
  {
   "cell_type": "code",
   "execution_count": 1,
   "metadata": {},
   "outputs": [
    {
     "name": "stdout",
     "output_type": "stream",
     "text": [
      "5050\n"
     ]
    }
   ],
   "source": [
    "S = 0\n",
    "compteur = 1\n",
    "while compteur <= 100:\n",
    "    S = S + compteur\n",
    "    compteur = compteur + 1\n",
    "print(S)"
   ]
  },
  {
   "cell_type": "markdown",
   "metadata": {},
   "source": [
    "### Exercice 2\n",
    "\n",
    "Changer le programme précédent pour calculer $S = 1 + 2 + 3 + ... + 9999 + 10000$\n",
    "\n",
    "Recopier le résultat obtenu dans votre compte-rendu.\n",
    "\n",
    "Si vous avez voulu faire le malin et choisi un nombre tellement grand que le programme ne répond plus, choisissez, dans le menu **Kernel** ci-dessus, l'option \n",
    "**Interrupt**.\n",
    "\n",
    "### Exercice 3\n",
    "\n",
    "Modifier le code ci-dessous pour calculer $S = 3 + 6 + 9 + ... + 201$ comme dans l'exercice 18.5.2 du cours.\n",
    "\n",
    "Recopier le résultat obtenu dans votre compte-rendu."
   ]
  },
  {
   "cell_type": "code",
   "execution_count": null,
   "metadata": {
    "collapsed": true
   },
   "outputs": [],
   "source": [
    "# code à modifier pour résoudre l'exercice 3\n",
    "S = 0\n",
    "compteur = 1\n",
    "while compteur <= 100:\n",
    "    S = S + compteur\n",
    "    compteur = compteur + 1\n",
    "print(S)"
   ]
  },
  {
   "cell_type": "markdown",
   "metadata": {},
   "source": [
    "### Exercice 4\n",
    "\n",
    "Modifier le code ci-dessous pour calculer $P = 2\\times4\\times6\\times8\\times...\\times40$ comme dans l'exercice 18.5.2 du cours.\n",
    "\n",
    "Recopier le résultat obtenu dans votre compte-rendu."
   ]
  },
  {
   "cell_type": "code",
   "execution_count": null,
   "metadata": {
    "collapsed": true
   },
   "outputs": [],
   "source": [
    "# code à modifier pour résoudre l'exercice 4\n",
    "S = 0\n",
    "compteur = 1\n",
    "while compteur <= 100:\n",
    "    S = S + compteur\n",
    "    compteur = compteur + 1\n",
    "print(S)"
   ]
  },
  {
   "cell_type": "markdown",
   "metadata": {},
   "source": [
    "### Exercice 5\n",
    "\n",
    "Regarder la vidéo suivante :\n",
    "\n",
    "<video width=\"640\" height=\"480\" controls src=\"TeaserSuites.mp4\" />"
   ]
  },
  {
   "cell_type": "markdown",
   "metadata": {},
   "source": [
    "Modifier le code ci-dessous pour calculer le nombre de pas nécessaire au sportif pour monter un escalier de 30 marches avec la technique *superstairs*.\n",
    "\n",
    "Recopier le programme et la réponse sur le compte rendu."
   ]
  },
  {
   "cell_type": "code",
   "execution_count": 3,
   "metadata": {},
   "outputs": [
    {
     "name": "stdout",
     "output_type": "stream",
     "text": [
      "5050\n"
     ]
    }
   ],
   "source": [
    "# code à modifier pour résoudre l'exercice 5\n",
    "S = 0\n",
    "compteur = 1\n",
    "while compteur <= 100:\n",
    "    S = S + compteur\n",
    "    compteur = compteur + 1\n",
    "print(S)"
   ]
  },
  {
   "cell_type": "markdown",
   "metadata": {},
   "source": [
    "## Recherche du nombre d'étapes nécessaires pour dépasser un seuil\n",
    "\n"
   ]
  },
  {
   "cell_type": "code",
   "execution_count": null,
   "metadata": {
    "collapsed": true
   },
   "outputs": [],
   "source": [
    "# cadre de code où écrire le programme\n"
   ]
  }
 ],
 "metadata": {
  "kernelspec": {
   "display_name": "Python 3",
   "language": "python",
   "name": "python3"
  },
  "language_info": {
   "codemirror_mode": {
    "name": "ipython",
    "version": 3
   },
   "file_extension": ".py",
   "mimetype": "text/x-python",
   "name": "python",
   "nbconvert_exporter": "python",
   "pygments_lexer": "ipython3",
   "version": "3.6.3"
  }
 },
 "nbformat": 4,
 "nbformat_minor": 2
}
